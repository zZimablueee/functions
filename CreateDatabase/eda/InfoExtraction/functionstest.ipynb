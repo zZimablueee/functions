{
 "cells": [
  {
   "cell_type": "markdown",
   "metadata": {},
   "source": [
    "# 集成以往写出来的一些小函数并在一个小数据集上测试\n",
    "# write some functions and test them on a small dataset"
   ]
  },
  {
   "cell_type": "markdown",
   "metadata": {},
   "source": [
    "环境设置 set the environments"
   ]
  },
  {
   "cell_type": "code",
   "execution_count": 25,
   "metadata": {},
   "outputs": [],
   "source": [
    "import math\n",
    "import chess\n",
    "import os\n",
    "import sys\n",
    "import chess.pgn\n",
    "import chess.engine\n",
    "import csv\n",
    "import math\n",
    "from tqdm import tqdm\n",
    "import numpy as np\n",
    "import pandas as pd\n",
    "import asyncio\n",
    "from tqdm import tqdm\n",
    "# 在代码头部添加（重要！）\n",
    "from stockfish import Stockfish  # 确保此语句在调用Stockfish之前\n",
    "# 🔧 关键：强制更换 event loop（解决部分 Windows 异步问题）\n",
    "if sys.platform.startswith('win'):\n",
    "    asyncio.set_event_loop_policy(asyncio.WindowsSelectorEventLoopPolicy())\n"
   ]
  },
  {
   "cell_type": "markdown",
   "metadata": {},
   "source": [
    "一些文件路径、分析深度等初始设置"
   ]
  },
  {
   "cell_type": "code",
   "execution_count": 26,
   "metadata": {},
   "outputs": [],
   "source": [
    "csv_file=\"C:\\\\Users\\\\Administrator\\\\Desktop\\\\simple eda\\\\testfunctions\\\\original_dataset.csv\"\n",
    "STOCKFISH_PATH =\"C:/Users/Administrator/Desktop/stockfish-windows-x86-64-avx2/stockfish/stockfish-windows-x86-64-avx2.exe\"\n",
    "STOCKFISH_DEPTH=20\n",
    "OUTPUT_CSV = \"test_check.csv\"  # 输出路径"
   ]
  },
  {
   "cell_type": "code",
   "execution_count": 27,
   "metadata": {},
   "outputs": [],
   "source": [
    "# 计算胜率差（和原公式一致）\n",
    "def _calculate_delta(cp_before, cp_after):\n",
    "    def cp_to_win(cp):\n",
    "        return 50 + 50 * (2 / (1 + math.exp(-0.00368208 * cp)) - 1)\n",
    "    return abs(cp_to_win(cp_before) - cp_to_win(cp_after))\n",
    "# 辅助函数：从 Stockfish 的评估字典中提取 cp 分值\n",
    "def get_cp(evaluation):\n",
    "    # evaluation 形如 {'type': 'cp', 'value': 34} 或 {'type': 'mate', 'value': 2}\n",
    "    if evaluation[\"type\"] == \"cp\":\n",
    "        return evaluation[\"value\"]\n",
    "    elif evaluation[\"type\"] == \"mate\":\n",
    "        # 如果是 mate，按正负10000 处理\n",
    "        return 10000 if evaluation[\"value\"] > 0 else -10000\n",
    "    return 0"
   ]
  },
  {
   "cell_type": "markdown",
   "metadata": {},
   "source": [
    "测试上面的能不能用"
   ]
  },
  {
   "cell_type": "code",
   "execution_count": 28,
   "metadata": {},
   "outputs": [],
   "source": [
    "# 逐步分析棋局准确性（完全按照你原来的评估逻辑）\n",
    "def generate_mediate_df(csv_file, STOCKFISH_PATH, depth=20):\n",
    "    raw_df = pd.read_csv(csv_file, encoding='latin1')\n",
    "    mediate_df = raw_df.copy()\n",
    "    mediate_df['white_accuracy'] = None\n",
    "    mediate_df['black_accuracy'] = None\n",
    "\n",
    "    # 使用 stockfish 包来替代 chess.engine.SimpleEngine\n",
    "    from stockfish import Stockfish\n",
    "    stockfish = Stockfish(path=STOCKFISH_PATH, depth=depth)\n",
    "    # 若需要，可设置其他参数，例如线程数、hash 大小等\n",
    "\n",
    "    with tqdm(total=len(mediate_df),\n",
    "              desc=\"🔄 棋局分析进度\",\n",
    "              unit=\"局\",\n",
    "              bar_format=\"{l_bar}{bar:30}| {n_fmt}/{total_fmt} [剩余:{remaining}]\",\n",
    "              dynamic_ncols=True) as pbar:\n",
    "\n",
    "        for idx, row in mediate_df.iterrows():\n",
    "            pbar.set_postfix_str(f\"当前对局ID: {idx}\")\n",
    "            moves = str(row['Moves']).split(',')\n",
    "            board = chess.Board()\n",
    "            white_acc = []\n",
    "            black_acc = []\n",
    "\n",
    "            for move_uci in moves:\n",
    "                move_uci = move_uci.strip()\n",
    "                if not move_uci:\n",
    "                    continue\n",
    "\n",
    "                try:\n",
    "                    move = chess.Move.from_uci(move_uci)\n",
    "                    if move not in board.legal_moves:\n",
    "                        # 如果遇到非法走法则跳出本局分析\n",
    "                        break\n",
    "\n",
    "                    fen_before=board.fen()\n",
    "                    stockfish.set_fen_position(fen_before)\n",
    "                    eval_before=stockfish.get_evaluation()\n",
    "                    cp_before=get_cp(eval_before)\n",
    "\n",
    "                    board.push(move)\n",
    "\n",
    "                    fen_after=board.fen()\n",
    "                    stockfish.set_fen_position(fen_after)\n",
    "                    eval_after=stockfish.get_evaluation()\n",
    "                    cp_after=get_cp(eval_after)\n",
    "                \n",
    "\n",
    "\n",
    "                    # 判断本步走法是哪方走的：\n",
    "                    # 注意：执行 push() 后，board.turn 表示下一步走棋的颜色，\n",
    "                    # 所以走完走法前的局面时，当前走棋方为与 board.turn 相反的一方\n",
    "                    moved_color = 'white' if board.turn == chess.BLACK else 'black'\n",
    "\n",
    "                    # 根据原公式计算走法准确率\n",
    "                    delta = _calculate_delta(cp_before, cp_after)\n",
    "                    acc = 103.1668 * math.exp(-0.04354 * delta) - 3.1669\n",
    "                    clamped_acc = max(0.0, min(100.0, acc))\n",
    "\n",
    "                    if moved_color == 'white':\n",
    "                        white_acc.append(clamped_acc)\n",
    "                    else:\n",
    "                        black_acc.append(clamped_acc)\n",
    "\n",
    "                except Exception as e:\n",
    "                    print(f\"\\n❌ 对局 {idx} 发生错误：{str(e)}\")\n",
    "                    break\n",
    "\n",
    "            # 记录本局的平均准确率\n",
    "            mediate_df.at[idx, 'white_accuracy'] = sum(white_acc) / len(white_acc) if white_acc else None\n",
    "            mediate_df.at[idx, 'black_accuracy'] = sum(black_acc) / len(black_acc) if black_acc else None\n",
    "            pbar.update(1)\n",
    "\n",
    "    return mediate_df"
   ]
  },
  {
   "cell_type": "code",
   "execution_count": 29,
   "metadata": {},
   "outputs": [
    {
     "name": "stderr",
     "output_type": "stream",
     "text": [
      "🔄 棋局分析进度:  46%|█████████████▊                | 6/13 [剩余:08:06]"
     ]
    },
    {
     "name": "stdout",
     "output_type": "stream",
     "text": [
      "\n",
      "❌ 对局 5 发生错误：expected uci string to be of length 4 or 5: 'nan'\n"
     ]
    },
    {
     "name": "stderr",
     "output_type": "stream",
     "text": [
      "🔄 棋局分析进度: 100%|██████████████████████████████| 13/13 [剩余:00:00]"
     ]
    },
    {
     "name": "stdout",
     "output_type": "stream",
     "text": [
      "\n",
      "✅ 分析完成！结果已保存至: test_check.csv\n"
     ]
    },
    {
     "name": "stderr",
     "output_type": "stream",
     "text": [
      "\n"
     ]
    }
   ],
   "source": [
    "# ===== 主函数入口 =====\n",
    "if __name__ == \"__main__\":\n",
    "    mediate_df = generate_mediate_df(\n",
    "        csv_file=csv_file,\n",
    "        STOCKFISH_PATH=STOCKFISH_PATH,\n",
    "        depth=STOCKFISH_DEPTH\n",
    "    )\n",
    "    mediate_df.to_csv(OUTPUT_CSV, index=False)\n",
    "    print(f\"\\n✅ 分析完成！结果已保存至: {OUTPUT_CSV}\")"
   ]
  },
  {
   "cell_type": "code",
   "execution_count": 37,
   "metadata": {},
   "outputs": [
    {
     "name": "stderr",
     "output_type": "stream",
     "text": [
      "ACPL计算进度:   0%|          | 0/13 [10:55<?, ?局/s]\n"
     ]
    },
    {
     "ename": "KeyboardInterrupt",
     "evalue": "",
     "output_type": "error",
     "traceback": [
      "\u001b[1;31m---------------------------------------------------------------------------\u001b[0m",
      "\u001b[1;31mKeyboardInterrupt\u001b[0m                         Traceback (most recent call last)",
      "Cell \u001b[1;32mIn[37], line 114\u001b[0m\n\u001b[0;32m    112\u001b[0m \u001b[38;5;28;01mfor\u001b[39;00m idx, row \u001b[38;5;129;01min\u001b[39;00m batch\u001b[38;5;241m.\u001b[39miterrows():\n\u001b[0;32m    113\u001b[0m     moves_str \u001b[38;5;241m=\u001b[39m row[\u001b[38;5;124m'\u001b[39m\u001b[38;5;124mMoves\u001b[39m\u001b[38;5;124m'\u001b[39m] \u001b[38;5;28;01mif\u001b[39;00m \u001b[38;5;28misinstance\u001b[39m(row[\u001b[38;5;124m'\u001b[39m\u001b[38;5;124mMoves\u001b[39m\u001b[38;5;124m'\u001b[39m], \u001b[38;5;28mstr\u001b[39m) \u001b[38;5;28;01melse\u001b[39;00m \u001b[38;5;124m'\u001b[39m\u001b[38;5;124m'\u001b[39m\n\u001b[1;32m--> 114\u001b[0m     w_acpl, b_acpl \u001b[38;5;241m=\u001b[39m \u001b[43mcalculate_acpl\u001b[49m\u001b[43m(\u001b[49m\u001b[43mmoves_str\u001b[49m\u001b[43m,\u001b[49m\u001b[43m \u001b[49m\u001b[43mstockfish\u001b[49m\u001b[43m)\u001b[49m\n\u001b[0;32m    116\u001b[0m     white_acpl_list\u001b[38;5;241m.\u001b[39mappend(w_acpl)\n\u001b[0;32m    117\u001b[0m     black_acpl_list\u001b[38;5;241m.\u001b[39mappend(b_acpl)\n",
      "Cell \u001b[1;32mIn[37], line 62\u001b[0m, in \u001b[0;36mcalculate_acpl\u001b[1;34m(moves_str, stockfish)\u001b[0m\n\u001b[0;32m     59\u001b[0m current_color \u001b[38;5;241m=\u001b[39m \u001b[38;5;124m'\u001b[39m\u001b[38;5;124mwhite\u001b[39m\u001b[38;5;124m'\u001b[39m \u001b[38;5;28;01mif\u001b[39;00m board\u001b[38;5;241m.\u001b[39mturn \u001b[38;5;241m==\u001b[39m chess\u001b[38;5;241m.\u001b[39mWHITE \u001b[38;5;28;01melse\u001b[39;00m \u001b[38;5;124m'\u001b[39m\u001b[38;5;124mblack\u001b[39m\u001b[38;5;124m'\u001b[39m\n\u001b[0;32m     61\u001b[0m \u001b[38;5;66;03m# 计算评分差异\u001b[39;00m\n\u001b[1;32m---> 62\u001b[0m score_diff \u001b[38;5;241m=\u001b[39m \u001b[43mget_score_diff\u001b[49m\u001b[43m(\u001b[49m\u001b[43mstockfish\u001b[49m\u001b[43m,\u001b[49m\u001b[43m \u001b[49m\u001b[43mcurrent_fen\u001b[49m\u001b[43m,\u001b[49m\u001b[43m \u001b[49m\u001b[43mmove_uci\u001b[49m\u001b[43m)\u001b[49m\n\u001b[0;32m     63\u001b[0m score_diff\u001b[38;5;241m=\u001b[39m\u001b[38;5;28mabs\u001b[39m(score_diff)\n\u001b[0;32m     64\u001b[0m \u001b[38;5;28;01mif\u001b[39;00m score_diff \u001b[38;5;241m>\u001b[39m\u001b[38;5;241m=\u001b[39m MISSED_WIN_THRESHOLD:\n",
      "Cell \u001b[1;32mIn[37], line 13\u001b[0m, in \u001b[0;36mget_score_diff\u001b[1;34m(stockfish, fen, move_uci)\u001b[0m\n\u001b[0;32m     11\u001b[0m stockfish\u001b[38;5;241m.\u001b[39mset_fen_position(fen)\n\u001b[0;32m     12\u001b[0m \u001b[38;5;66;03m# 获取最佳走法评估\u001b[39;00m\n\u001b[1;32m---> 13\u001b[0m best_move \u001b[38;5;241m=\u001b[39m \u001b[43mstockfish\u001b[49m\u001b[38;5;241;43m.\u001b[39;49m\u001b[43mget_best_move\u001b[49m\u001b[43m(\u001b[49m\u001b[43mfen\u001b[49m\u001b[43m)\u001b[49m\n\u001b[0;32m     14\u001b[0m \u001b[38;5;28;01mif\u001b[39;00m \u001b[38;5;129;01mnot\u001b[39;00m best_move:\n\u001b[0;32m     15\u001b[0m     \u001b[38;5;28;01mreturn\u001b[39;00m \u001b[38;5;241m0\u001b[39m\n",
      "File \u001b[1;32md:\\Anaconda\\envs\\DL\\lib\\site-packages\\stockfish\\models.py:338\u001b[0m, in \u001b[0;36mStockfish.get_best_move\u001b[1;34m(self, wtime, btime)\u001b[0m\n\u001b[0;32m    336\u001b[0m \u001b[38;5;28;01melse\u001b[39;00m:\n\u001b[0;32m    337\u001b[0m     \u001b[38;5;28mself\u001b[39m\u001b[38;5;241m.\u001b[39m_go()\n\u001b[1;32m--> 338\u001b[0m \u001b[38;5;28;01mreturn\u001b[39;00m \u001b[38;5;28;43mself\u001b[39;49m\u001b[38;5;241;43m.\u001b[39;49m\u001b[43m_get_best_move_from_sf_popen_process\u001b[49m\u001b[43m(\u001b[49m\u001b[43m)\u001b[49m\n",
      "File \u001b[1;32md:\\Anaconda\\envs\\DL\\lib\\site-packages\\stockfish\\models.py:358\u001b[0m, in \u001b[0;36mStockfish._get_best_move_from_sf_popen_process\u001b[1;34m(self)\u001b[0m\n\u001b[0;32m    356\u001b[0m last_text: \u001b[38;5;28mstr\u001b[39m \u001b[38;5;241m=\u001b[39m \u001b[38;5;124m\"\u001b[39m\u001b[38;5;124m\"\u001b[39m\n\u001b[0;32m    357\u001b[0m \u001b[38;5;28;01mwhile\u001b[39;00m \u001b[38;5;28;01mTrue\u001b[39;00m:\n\u001b[1;32m--> 358\u001b[0m     text \u001b[38;5;241m=\u001b[39m \u001b[38;5;28;43mself\u001b[39;49m\u001b[38;5;241;43m.\u001b[39;49m\u001b[43m_read_line\u001b[49m\u001b[43m(\u001b[49m\u001b[43m)\u001b[49m\n\u001b[0;32m    359\u001b[0m     splitted_text \u001b[38;5;241m=\u001b[39m text\u001b[38;5;241m.\u001b[39msplit(\u001b[38;5;124m\"\u001b[39m\u001b[38;5;124m \u001b[39m\u001b[38;5;124m\"\u001b[39m)\n\u001b[0;32m    360\u001b[0m     \u001b[38;5;28;01mif\u001b[39;00m splitted_text[\u001b[38;5;241m0\u001b[39m] \u001b[38;5;241m==\u001b[39m \u001b[38;5;124m\"\u001b[39m\u001b[38;5;124mbestmove\u001b[39m\u001b[38;5;124m\"\u001b[39m:\n",
      "File \u001b[1;32md:\\Anaconda\\envs\\DL\\lib\\site-packages\\stockfish\\models.py:161\u001b[0m, in \u001b[0;36mStockfish._read_line\u001b[1;34m(self)\u001b[0m\n\u001b[0;32m    159\u001b[0m \u001b[38;5;28;01mif\u001b[39;00m \u001b[38;5;28mself\u001b[39m\u001b[38;5;241m.\u001b[39m_stockfish\u001b[38;5;241m.\u001b[39mpoll() \u001b[38;5;129;01mis\u001b[39;00m \u001b[38;5;129;01mnot\u001b[39;00m \u001b[38;5;28;01mNone\u001b[39;00m:\n\u001b[0;32m    160\u001b[0m     \u001b[38;5;28;01mraise\u001b[39;00m StockfishException(\u001b[38;5;124m\"\u001b[39m\u001b[38;5;124mThe Stockfish process has crashed\u001b[39m\u001b[38;5;124m\"\u001b[39m)\n\u001b[1;32m--> 161\u001b[0m \u001b[38;5;28;01mreturn\u001b[39;00m \u001b[38;5;28;43mself\u001b[39;49m\u001b[38;5;241;43m.\u001b[39;49m\u001b[43m_stockfish\u001b[49m\u001b[38;5;241;43m.\u001b[39;49m\u001b[43mstdout\u001b[49m\u001b[38;5;241;43m.\u001b[39;49m\u001b[43mreadline\u001b[49m\u001b[43m(\u001b[49m\u001b[43m)\u001b[49m\u001b[38;5;241m.\u001b[39mstrip()\n",
      "File \u001b[1;32md:\\Anaconda\\envs\\DL\\lib\\codecs.py:319\u001b[0m, in \u001b[0;36mBufferedIncrementalDecoder.decode\u001b[1;34m(self, input, final)\u001b[0m\n\u001b[0;32m    314\u001b[0m \u001b[38;5;28;01mdef\u001b[39;00m \u001b[38;5;21m_buffer_decode\u001b[39m(\u001b[38;5;28mself\u001b[39m, \u001b[38;5;28minput\u001b[39m, errors, final):\n\u001b[0;32m    315\u001b[0m     \u001b[38;5;66;03m# Overwrite this method in subclasses: It must decode input\u001b[39;00m\n\u001b[0;32m    316\u001b[0m     \u001b[38;5;66;03m# and return an (output, length consumed) tuple\u001b[39;00m\n\u001b[0;32m    317\u001b[0m     \u001b[38;5;28;01mraise\u001b[39;00m \u001b[38;5;167;01mNotImplementedError\u001b[39;00m\n\u001b[1;32m--> 319\u001b[0m \u001b[38;5;28;01mdef\u001b[39;00m \u001b[38;5;21mdecode\u001b[39m(\u001b[38;5;28mself\u001b[39m, \u001b[38;5;28minput\u001b[39m, final\u001b[38;5;241m=\u001b[39m\u001b[38;5;28;01mFalse\u001b[39;00m):\n\u001b[0;32m    320\u001b[0m     \u001b[38;5;66;03m# decode input (taking the buffer into account)\u001b[39;00m\n\u001b[0;32m    321\u001b[0m     data \u001b[38;5;241m=\u001b[39m \u001b[38;5;28mself\u001b[39m\u001b[38;5;241m.\u001b[39mbuffer \u001b[38;5;241m+\u001b[39m \u001b[38;5;28minput\u001b[39m\n\u001b[0;32m    322\u001b[0m     (result, consumed) \u001b[38;5;241m=\u001b[39m \u001b[38;5;28mself\u001b[39m\u001b[38;5;241m.\u001b[39m_buffer_decode(data, \u001b[38;5;28mself\u001b[39m\u001b[38;5;241m.\u001b[39merrors, final)\n",
      "\u001b[1;31mKeyboardInterrupt\u001b[0m: "
     ]
    }
   ],
   "source": [
    "from stockfish import Stockfish\n",
    "\n",
    "# 配置参数\n",
    "STOCKFISH_DEPTH = 10\n",
    "MISSED_WIN_THRESHOLD = 1000\n",
    "THREADS = 4\n",
    "HASH_SIZE = 2048  # MB\n",
    "\n",
    "def get_score_diff(stockfish, fen, move_uci):\n",
    "    \"\"\"获取指定走法与最佳走法的评分差异\"\"\"\n",
    "    stockfish.set_fen_position(fen)\n",
    "    # 获取最佳走法评估\n",
    "    best_move = stockfish.get_best_move(fen)\n",
    "    if not best_move:\n",
    "        return 0\n",
    "    \n",
    "    # 获取最佳走法评分\n",
    "    best_eval = stockfish.get_evaluation()\n",
    "    best_score = best_eval['value'] if best_eval['type'] == 'cp' else 10000 * (1 if best_eval['value'] > 0 else -1)    # 获取实际走法评分\n",
    "    #实际走法评分\n",
    "    stockfish.set_fen_position(fen)\n",
    "    stockfish.make_moves_from_current_position([move_uci])\n",
    "    actual_eval = stockfish.get_evaluation()\n",
    "    actual_score = actual_eval['value'] if actual_eval['type'] == 'cp' else 10000* (1 if actual_eval['value'] > 0 else -1)\n",
    "    \n",
    "    # 计算差异（从行棋方角度）\n",
    "    if stockfish.get_fen_position().split()[1] == 'b':  # 如果是黑方行棋\n",
    "        return best_score - actual_score\n",
    "    else:\n",
    "        return actual_score - best_score\n",
    "    \n",
    "def calculate_acpl(moves_str, stockfish):\n",
    "    \"\"\"基于stockfish库的ACPL计算\"\"\"\n",
    "    board = chess.Board()\n",
    "    white_loss = white_moves = 0\n",
    "    black_loss = black_moves = 0\n",
    "    \n",
    "    try:\n",
    "        # 优化：根据UCI格式处理走法\n",
    "        if ',' in moves_str:\n",
    "            moves = [m.strip() for m in moves_str.split(',') if m.strip()]\n",
    "        else:\n",
    "            # 假设是空格分隔的UCI格式\n",
    "            moves = [m.strip() for m in moves_str.split() if m.strip()]\n",
    "            \n",
    "        for move_uci in moves:\n",
    "            if board.is_game_over():\n",
    "                break\n",
    "            \n",
    "            try:\n",
    "                move = chess.Move.from_uci(move_uci)\n",
    "                if move not in board.legal_moves:\n",
    "                    continue\n",
    "            except:\n",
    "                continue\n",
    "            \n",
    "            # 获取当前局面FEN和行棋方\n",
    "            current_fen = board.fen()\n",
    "            current_color = 'white' if board.turn == chess.WHITE else 'black'\n",
    "            \n",
    "            # 计算评分差异\n",
    "            score_diff = get_score_diff(stockfish, current_fen, move_uci)\n",
    "            score_diff=abs(score_diff)\n",
    "            if score_diff >= MISSED_WIN_THRESHOLD:\n",
    "                score_diff = 0\n",
    "                \n",
    "            # 累计损失\n",
    "            if current_color == 'white':\n",
    "                white_loss += score_diff\n",
    "                white_moves += 1\n",
    "            else:\n",
    "                black_loss += score_diff\n",
    "                black_moves += 1\n",
    "                \n",
    "            # 执行走子\n",
    "            board.push(move)\n",
    "            \n",
    "    except Exception as e:\n",
    "        print(f\"处理错误: {str(e)}\")\n",
    "    \n",
    "    # 计算平均值\n",
    "    white_acpl = white_loss / white_moves if white_moves > 0 else 0\n",
    "    black_acpl = black_loss / black_moves if black_moves > 0 else 0\n",
    "    return round(white_acpl, 1), round(black_acpl, 1)\n",
    "\n",
    "if __name__ == \"__main__\":\n",
    "    # 初始化Stockfish引擎\n",
    "    stockfish = Stockfish(\n",
    "        path=STOCKFISH_PATH,\n",
    "        depth=STOCKFISH_DEPTH,\n",
    "        parameters={\n",
    "            \"Threads\": THREADS,\n",
    "            \"Hash\": HASH_SIZE,\n",
    "            \"UCI_Elo\": 3200  # 可选：设置引擎强度\n",
    "        }\n",
    "    )\n",
    "    \n",
    "   \n",
    "    \n",
    "    # 处理数据\n",
    "    white_acpl_list = []\n",
    "    black_acpl_list = []\n",
    "\n",
    "    # 添加批处理和进度显示\n",
    "    batch_size = 10  # 每批处理的棋局数\n",
    "    total_batches = (len(mediate_df) + batch_size - 1) // batch_size\n",
    "\n",
    "    with tqdm(total=len(mediate_df), desc=\"ACPL计算进度\", unit=\"局\") as pbar:\n",
    "        for i in range(0, len(mediate_df), batch_size):\n",
    "            batch = mediate_df.iloc[i:i+batch_size]\n",
    "            \n",
    "            for idx, row in batch.iterrows():\n",
    "                moves_str = row['Moves'] if isinstance(row['Moves'], str) else ''\n",
    "                w_acpl, b_acpl = calculate_acpl(moves_str, stockfish)\n",
    "                \n",
    "                white_acpl_list.append(w_acpl)\n",
    "                black_acpl_list.append(b_acpl)\n",
    "                \n",
    "                pbar.update(1)\n",
    "                pbar.set_postfix_str(f\"白ACPL: {w_acpl} | 黑ACPL: {b_acpl}\")\n",
    "    \n",
    "    # 保存结果\n",
    "    mediate_df[\"White_ACPL\"] = white_acpl_list\n",
    "    mediate_df[\"Black_ACPL\"] = black_acpl_list\n",
    "    mediate_df.to_csv(\"analyzed_games.csv\", index=False)\n",
    "    print(mediate_df.head())\n",
    "    print(mediate_df.columns.tolist())\n"
   ]
  },
  {
   "cell_type": "markdown",
   "metadata": {},
   "source": [
    "求对局数量"
   ]
  },
  {
   "cell_type": "code",
   "execution_count": 38,
   "metadata": {},
   "outputs": [
    {
     "name": "stdout",
     "output_type": "stream",
     "text": [
      "                                    Event       Site        Date  Round  \\\n",
      "0  Early-Titled-Tuesday-Blitz-May-07-2024  Chess.com  2024.05.07      1   \n",
      "1  Early-Titled-Tuesday-Blitz-May-07-2024  Chess.com  2024.05.07      1   \n",
      "2  Early-Titled-Tuesday-Blitz-May-07-2024  Chess.com  2024.05.07      1   \n",
      "3  Early-Titled-Tuesday-Blitz-May-07-2024  Chess.com  2024.05.07      1   \n",
      "4  Early-Titled-Tuesday-Blitz-May-07-2024  Chess.com  2024.05.07      1   \n",
      "\n",
      "         White             Black Result  WhiteElo  BlackElo TimeControl  \\\n",
      "0       Honiex            Senn71    1-0      2581      2201       180+1   \n",
      "1    Aisen1011         GMSrinath    0-1      2475      2847       180+1   \n",
      "2     Airquake       Road2GM3000    1-0      2824      2466       180+1   \n",
      "3  miragha_yev         Eliwood44    1-0      2815      2455       180+1   \n",
      "4      klimkoj  Happy1712Drummer    1-0      2921      2507       180+1   \n",
      "\n",
      "       EndTime                     Termination  \\\n",
      "0  8:02:34 PDT       Honiex won by resignation   \n",
      "1  8:02:41 PDT    GMSrinath won by resignation   \n",
      "2  8:02:43 PDT     Airquake won by resignation   \n",
      "3  8:02:56 PDT  miragha_yev won by resignation   \n",
      "4  8:02:59 PDT      klimkoj won by resignation   \n",
      "\n",
      "                                               Moves  \\\n",
      "0  b1c3,d7d5,e2e4,d5d4,c3e2,c7c5,e2g3,e7e5,f1c4,f...   \n",
      "1  d2d4,f7f5,g2g3,g8f6,f1g2,g7g6,b1d2,f8g7,e2e4,f...   \n",
      "2  e2e4,e7e5,g1f3,g8f6,b1c3,b8c6,f1c4,f6e4,c3e4,d...   \n",
      "3  c2c4,g8f6,b1c3,e7e6,e2e4,c7c5,e4e5,f6g8,d2d4,c...   \n",
      "4  d2d4,g8f6,g1f3,d7d5,c2c4,e7e6,b1c3,a7a6,c4d5,e...   \n",
      "\n",
      "                                          Evaluation white_accuracy  \\\n",
      "0  -0.03,-0.03,-0.39,-0.33,-0.39,-0.12,-0.18,0.16...      96.507881   \n",
      "1  0.27,0.63,0.46,0.48,0.52,0.58,0.4,0.45,0.14,0....      91.925971   \n",
      "2  0.31,0.35,0.25,0.34,0.22,0.13,-0.15,-0.07,-0.1...      95.902978   \n",
      "3  0.12,0.24,0.04,0.29,0.34,0.54,0.54,0.42,0.32,0...      93.777876   \n",
      "4  0.26,0.19,0.24,0.2,0.23,0.16,0.18,0.39,0.39,0....      95.362976   \n",
      "\n",
      "  black_accuracy  Move Numbers  \n",
      "0      83.715154          21.0  \n",
      "1      96.932798          36.0  \n",
      "2      87.022344          33.0  \n",
      "3      89.251709          47.0  \n",
      "4      88.042223          41.0  \n",
      "['Event', 'Site', 'Date', 'Round', 'White', 'Black', 'Result', 'WhiteElo', 'BlackElo', 'TimeControl', 'EndTime', 'Termination', 'Moves', 'Evaluation', 'white_accuracy', 'black_accuracy', 'Move Numbers']\n"
     ]
    }
   ],
   "source": [
    "#求moves\n",
    "\n",
    "# 计算每行的移动步数并添加新列\n",
    "mediate_df['Move Numbers'] = mediate_df['Moves'].apply(\n",
    "    lambda x: x.count(',') + 1 if isinstance(x, str) and ',' in x and x.strip() else None\n",
    ")\n",
    "print(mediate_df.head())\n",
    "print(mediate_df.columns.tolist())"
   ]
  },
  {
   "cell_type": "code",
   "execution_count": 39,
   "metadata": {},
   "outputs": [
    {
     "name": "stdout",
     "output_type": "stream",
     "text": [
      "0    96.507881\n",
      "1    91.925971\n",
      "2    95.902978\n",
      "3    93.777876\n",
      "4    95.362976\n",
      "Name: white_accuracy, dtype: object\n",
      "0    83.715154\n",
      "1    96.932798\n",
      "2    87.022344\n",
      "3    89.251709\n",
      "4    88.042223\n",
      "Name: black_accuracy, dtype: object\n",
      "0    21.0\n",
      "1    36.0\n",
      "2    33.0\n",
      "3    47.0\n",
      "4    41.0\n",
      "Name: Move Numbers, dtype: float64\n"
     ]
    }
   ],
   "source": [
    "print(mediate_df['white_accuracy'].head())\n",
    "print(mediate_df['black_accuracy'].head())\n",
    "print(mediate_df['Move Numbers'].head())\n"
   ]
  }
 ],
 "metadata": {
  "kernelspec": {
   "display_name": "DL",
   "language": "python",
   "name": "python3"
  },
  "language_info": {
   "codemirror_mode": {
    "name": "ipython",
    "version": 3
   },
   "file_extension": ".py",
   "mimetype": "text/x-python",
   "name": "python",
   "nbconvert_exporter": "python",
   "pygments_lexer": "ipython3",
   "version": "3.9.20"
  }
 },
 "nbformat": 4,
 "nbformat_minor": 2
}
